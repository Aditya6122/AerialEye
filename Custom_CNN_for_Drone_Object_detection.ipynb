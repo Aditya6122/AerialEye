{
  "nbformat": 4,
  "nbformat_minor": 0,
  "metadata": {
    "colab": {
      "provenance": [],
      "gpuType": "T4",
      "include_colab_link": true
    },
    "kernelspec": {
      "name": "python3",
      "display_name": "Python 3"
    },
    "language_info": {
      "name": "python"
    },
    "accelerator": "GPU"
  },
  "cells": [
    {
      "cell_type": "markdown",
      "metadata": {
        "id": "view-in-github",
        "colab_type": "text"
      },
      "source": [
        "<a href=\"https://colab.research.google.com/github/Aditya6122/Drone-View-Object-Detection/blob/main/Custom_CNN_for_Drone_Object_detection.ipynb\" target=\"_parent\"><img src=\"https://colab.research.google.com/assets/colab-badge.svg\" alt=\"Open In Colab\"/></a>"
      ]
    },
    {
      "cell_type": "markdown",
      "source": [
        "#### Data Preparation"
      ],
      "metadata": {
        "id": "FKlq9TpFXvAv"
      }
    },
    {
      "cell_type": "code",
      "source": [
        "from google.colab import drive\n",
        "drive.mount('/content/drive')"
      ],
      "metadata": {
        "colab": {
          "base_uri": "https://localhost:8080/"
        },
        "id": "_O5KXe6rdGQC",
        "outputId": "51bfe712-fb5b-4fbc-e996-33047b2a1dd2"
      },
      "execution_count": null,
      "outputs": [
        {
          "output_type": "stream",
          "name": "stdout",
          "text": [
            "Mounted at /content/drive\n"
          ]
        }
      ]
    },
    {
      "cell_type": "code",
      "source": [
        "!pip install roboflow --quiet"
      ],
      "metadata": {
        "colab": {
          "base_uri": "https://localhost:8080/"
        },
        "id": "z2aKSZc3SJhY",
        "outputId": "e5a5fe38-ecf3-47a1-f424-3f802251a6a1"
      },
      "execution_count": null,
      "outputs": [
        {
          "output_type": "stream",
          "name": "stdout",
          "text": [
            "\u001b[2K     \u001b[90m━━━━━━━━━━━━━━━━━━━━━━━━━━━━━━━━━━━━━━━━\u001b[0m \u001b[32m56.3/56.3 kB\u001b[0m \u001b[31m7.1 MB/s\u001b[0m eta \u001b[36m0:00:00\u001b[0m\n",
            "\u001b[2K     \u001b[90m━━━━━━━━━━━━━━━━━━━━━━━━━━━━━━━━━━━━━━━━\u001b[0m \u001b[32m58.8/58.8 kB\u001b[0m \u001b[31m8.4 MB/s\u001b[0m eta \u001b[36m0:00:00\u001b[0m\n",
            "\u001b[2K     \u001b[90m━━━━━━━━━━━━━━━━━━━━━━━━━━━━━━━━━━━━━━━━\u001b[0m \u001b[32m67.8/67.8 kB\u001b[0m \u001b[31m9.4 MB/s\u001b[0m eta \u001b[36m0:00:00\u001b[0m\n",
            "\u001b[?25h  Preparing metadata (setup.py) ... \u001b[?25l\u001b[?25hdone\n",
            "\u001b[2K     \u001b[90m━━━━━━━━━━━━━━━━━━━━━━━━━━━━━━━━━━━━━━━━\u001b[0m \u001b[32m54.5/54.5 kB\u001b[0m \u001b[31m7.2 MB/s\u001b[0m eta \u001b[36m0:00:00\u001b[0m\n",
            "\u001b[?25h  Building wheel for wget (setup.py) ... \u001b[?25l\u001b[?25hdone\n"
          ]
        }
      ]
    },
    {
      "cell_type": "code",
      "source": [
        "from roboflow import Roboflow\n",
        "rf = Roboflow(api_key=\"tbwjbJaqSTCkdlcH4sVH\")\n",
        "project = rf.workspace(\"aditya-imsui\").project(\"object-detection-hd\")\n",
        "dataset = project.version(20).download(\"voc\")"
      ],
      "metadata": {
        "colab": {
          "base_uri": "https://localhost:8080/"
        },
        "id": "duDVd5UeSGLu",
        "outputId": "2b659bba-1919-4df4-f1a0-0a1d6cff8676"
      },
      "execution_count": null,
      "outputs": [
        {
          "output_type": "stream",
          "name": "stdout",
          "text": [
            "loading Roboflow workspace...\n",
            "loading Roboflow project...\n",
            "Downloading Dataset Version Zip in object-detection---HD-20 to voc: 100% [22173928 / 22173928] bytes\n"
          ]
        },
        {
          "output_type": "stream",
          "name": "stderr",
          "text": [
            "Extracting Dataset Version Zip to object-detection---HD-20 in voc:: 100%|██████████| 4352/4352 [00:00<00:00, 5003.44it/s]\n"
          ]
        }
      ]
    },
    {
      "cell_type": "code",
      "source": [
        "import os"
      ],
      "metadata": {
        "id": "ZqL8sZUZTNbP"
      },
      "execution_count": null,
      "outputs": []
    },
    {
      "cell_type": "code",
      "source": [
        "train_path = '/content/object-detection---HD-20/train'\n",
        "val_path = '/content/object-detection---HD-20/valid'\n",
        "train = sorted(os.listdir(train_path))\n",
        "val = sorted(os.listdir(val_path))"
      ],
      "metadata": {
        "id": "lMik3XzySmZ0"
      },
      "execution_count": null,
      "outputs": []
    },
    {
      "cell_type": "code",
      "source": [
        "train_annotations = [i for i in train if i[-3:]=='xml']\n",
        "train_imgs = [i for i in train if i[-3:]=='jpg']\n",
        "val_annotations = [i for i in val if i[-3:]=='xml']\n",
        "val_imgs = [i for i in val if i[-3:]=='jpg']"
      ],
      "metadata": {
        "id": "T3hWOIw3Syaa"
      },
      "execution_count": null,
      "outputs": []
    },
    {
      "cell_type": "code",
      "source": [
        "for i in range(len(train_annotations)):\n",
        "    os.rename(os.path.join(train_path,train_imgs[i]),os.path.join(train_path,'image'+str(i).zfill(5)+'.jpg'))\n",
        "    os.rename(os.path.join(train_path,train_annotations[i]),os.path.join(train_path,'annotation'+str(i).zfill(5)+'.xml'))"
      ],
      "metadata": {
        "id": "4_nVyRUXS6qx"
      },
      "execution_count": null,
      "outputs": []
    },
    {
      "cell_type": "code",
      "source": [
        "for i in range(len(val_annotations)):\n",
        "    os.rename(os.path.join(val_path,val_imgs[i]),os.path.join(val_path,'image'+str(i).zfill(5)+'.jpg'))\n",
        "    os.rename(os.path.join(val_path,val_annotations[i]),os.path.join(val_path,'annotation'+str(i).zfill(5)+'.xml'))"
      ],
      "metadata": {
        "id": "K3wJfGl5z15z"
      },
      "execution_count": null,
      "outputs": []
    },
    {
      "cell_type": "code",
      "source": [
        "train = sorted(os.listdir(train_path))\n",
        "train_annotations = [i for i in train if i[-3:]=='xml']\n",
        "train_imgs = [i for i in train if i[-3:]=='jpg']"
      ],
      "metadata": {
        "id": "HjWInB6JTBSp"
      },
      "execution_count": null,
      "outputs": []
    },
    {
      "cell_type": "code",
      "source": [
        "val = sorted(os.listdir(val_path))\n",
        "val_annotations = [i for i in val if i[-3:]=='xml']\n",
        "val_imgs = [i for i in val if i[-3:]=='jpg']"
      ],
      "metadata": {
        "id": "emLvJoC50Edw"
      },
      "execution_count": null,
      "outputs": []
    },
    {
      "cell_type": "code",
      "source": [
        "len(train_annotations),len(train_imgs)"
      ],
      "metadata": {
        "colab": {
          "base_uri": "https://localhost:8080/"
        },
        "id": "Dnpc3QsSTFuS",
        "outputId": "724d14ff-1266-4d28-b267-d23ffa25376b"
      },
      "execution_count": null,
      "outputs": [
        {
          "output_type": "execute_result",
          "data": {
            "text/plain": [
              "(2094, 2094)"
            ]
          },
          "metadata": {},
          "execution_count": 11
        }
      ]
    },
    {
      "cell_type": "code",
      "source": [
        "len(val_annotations),len(val_imgs)"
      ],
      "metadata": {
        "colab": {
          "base_uri": "https://localhost:8080/"
        },
        "id": "9KRCVHwZ0NdK",
        "outputId": "ab3a4edd-d6da-4b86-dffe-c462d0edc4e9"
      },
      "execution_count": null,
      "outputs": [
        {
          "output_type": "execute_result",
          "data": {
            "text/plain": [
              "(80, 80)"
            ]
          },
          "metadata": {},
          "execution_count": 12
        }
      ]
    },
    {
      "cell_type": "code",
      "source": [
        "!rm -rf /content/data\n",
        "!mkdir /content/data\n",
        "!mkdir /content/data/train\n",
        "!mkdir /content/data/val\n",
        "!mkdir /content/data/train/images\n",
        "!mkdir /content/data/train/annotations\n",
        "!mkdir /content/data/val/images\n",
        "!mkdir /content/data/val/annotations"
      ],
      "metadata": {
        "id": "Vpkf9wzMVb7o"
      },
      "execution_count": null,
      "outputs": []
    },
    {
      "cell_type": "code",
      "source": [
        "new_train_annot_path = '/content/data/train/annotations'\n",
        "new_train_imgs_path = '/content/data/train/images'\n",
        "new_val_annot_path = '/content/data/val/annotations'\n",
        "new_val_imgs_path = '/content/data/val/images'"
      ],
      "metadata": {
        "id": "TMBdaI0wVITx"
      },
      "execution_count": null,
      "outputs": []
    },
    {
      "cell_type": "code",
      "source": [
        "import shutil\n",
        "for i in range(len(train_annotations)):\n",
        "    shutil.copyfile(os.path.join(train_path,train_annotations[i]), os.path.join(new_train_annot_path,train_annotations[i]))\n",
        "    shutil.copyfile(os.path.join(train_path,train_imgs[i]), os.path.join(new_train_imgs_path,train_imgs[i]))"
      ],
      "metadata": {
        "id": "xoHSa1O3WBD6"
      },
      "execution_count": null,
      "outputs": []
    },
    {
      "cell_type": "code",
      "source": [
        "for i in range(len(val_annotations)):\n",
        "    shutil.copyfile(os.path.join(val_path,val_annotations[i]), os.path.join(new_val_annot_path,val_annotations[i]))\n",
        "    shutil.copyfile(os.path.join(val_path,val_imgs[i]), os.path.join(new_val_imgs_path,val_imgs[i]))"
      ],
      "metadata": {
        "id": "LdwEC5Tj06pO"
      },
      "execution_count": null,
      "outputs": []
    },
    {
      "cell_type": "code",
      "source": [
        "from PIL import Image\n",
        "import xml.etree.ElementTree as ET"
      ],
      "metadata": {
        "id": "KLK_taaNfGpE"
      },
      "execution_count": null,
      "outputs": []
    },
    {
      "cell_type": "code",
      "source": [
        "!rm -rf /content/drive/MyDrive/Objectdetection/image_classification/data/\n",
        "!mkdir /content/drive/MyDrive/Objectdetection/image_classification/data/\n",
        "!rm -rf /content/drive/MyDrive/Objectdetection/image_classification/.ipynb_checkpoints\n",
        "!mkdir /content/drive/MyDrive/Objectdetection/image_classification/data/train\n",
        "!mkdir /content/drive/MyDrive/Objectdetection/image_classification/data/val\n",
        "\n",
        "\n",
        "!mkdir /content/drive/MyDrive/Objectdetection/image_classification/data/train/car\n",
        "!mkdir /content/drive/MyDrive/Objectdetection/image_classification/data/train/pedestrain\n",
        "!mkdir /content/drive/MyDrive/Objectdetection/image_classification/data/train/tree\n",
        "!mkdir /content/drive/MyDrive/Objectdetection/image_classification/data/train/motorcycle\n",
        "\n",
        "!mkdir /content/drive/MyDrive/Objectdetection/image_classification/data/val/car\n",
        "!mkdir /content/drive/MyDrive/Objectdetection/image_classification/data/val/pedestrain\n",
        "!mkdir /content/drive/MyDrive/Objectdetection/image_classification/data/val/tree\n",
        "!mkdir /content/drive/MyDrive/Objectdetection/image_classification/data/val/motorcycle"
      ],
      "metadata": {
        "id": "5Yq3cQfB98m5"
      },
      "execution_count": null,
      "outputs": []
    },
    {
      "cell_type": "code",
      "source": [
        "root = '/content/data/train'\n",
        "\n",
        "imgs = os.listdir(os.path.join(root,\"images\"))\n",
        "annots = os.listdir(os.path.join(root,\"annotations\"))\n",
        "\n",
        "img_path = []\n",
        "annot_path = []\n",
        "for i in range(len(imgs)):\n",
        "    img_path.append(os.path.join(root,\"images\",imgs[i]))\n",
        "    annot_path.append(os.path.join(root,\"annotations\",annots[i]))\n",
        "\n",
        "img_path = list(sorted(img_path))\n",
        "annot_path = list(sorted(annot_path))\n",
        "\n",
        "\n",
        "saved_root = '/content/drive/MyDrive/Objectdetection/image_classification/data/train'\n",
        "\n",
        "last = {'tree':-1,'pedestrain':-1,'car':-1,'motorcycle':-1}\n",
        "\n",
        "for idx in range(len(img_path)):\n",
        "    img = Image.open(img_path[idx]).convert(\"RGB\")\n",
        "    tree = ET.parse(annot_path[idx])\n",
        "    root = tree.getroot()\n",
        "\n",
        "    for obj in root.findall('.//object'):\n",
        "        label = obj.find('name').text\n",
        "        \n",
        "    last[label]+=1\n",
        "    img.save(os.path.join(saved_root,label,str(label)+str(last[label]).zfill(5)+'.jpg'))\n",
        "    img.close()"
      ],
      "metadata": {
        "id": "h7Ff7ZUJdQCV"
      },
      "execution_count": null,
      "outputs": []
    },
    {
      "cell_type": "code",
      "source": [
        "root = '/content/data/val'\n",
        "\n",
        "imgs = os.listdir(os.path.join(root,\"images\"))\n",
        "annots = os.listdir(os.path.join(root,\"annotations\"))\n",
        "\n",
        "img_path = []\n",
        "annot_path = []\n",
        "for i in range(len(imgs)):\n",
        "    img_path.append(os.path.join(root,\"images\",imgs[i]))\n",
        "    annot_path.append(os.path.join(root,\"annotations\",annots[i]))\n",
        "\n",
        "img_path = list(sorted(img_path))\n",
        "annot_path = list(sorted(annot_path))\n",
        "\n",
        "\n",
        "saved_root = '/content/drive/MyDrive/Objectdetection/image_classification/data/val'\n",
        "\n",
        "last = {'tree':-1,'pedestrain':-1,'car':-1,'motorcycle':-1}\n",
        "\n",
        "for idx in range(len(img_path)):\n",
        "    img = Image.open(img_path[idx]).convert(\"RGB\")\n",
        "    tree = ET.parse(annot_path[idx])\n",
        "    root = tree.getroot()\n",
        "\n",
        "    for obj in root.findall('.//object'):\n",
        "        label = obj.find('name').text\n",
        "        \n",
        "    last[label]+=1\n",
        "    img.save(os.path.join(saved_root,label,str(label)+str(last[label]).zfill(5)+'.jpg'))\n",
        "    img.close()"
      ],
      "metadata": {
        "id": "F6BriwY42W4O"
      },
      "execution_count": null,
      "outputs": []
    },
    {
      "cell_type": "code",
      "source": [
        "print(\"car :\",len(os.listdir('/content/drive/MyDrive/Objectdetection/image_classification/data/train/car')))\n",
        "print(\"motorcyle :\",len(os.listdir('/content/drive/MyDrive/Objectdetection/image_classification/data/train/motorcycle')))\n",
        "print(\"pedestrain :\",len(os.listdir('/content/drive/MyDrive/Objectdetection/image_classification/data/train/pedestrain')))\n",
        "print(\"tree :\",len(os.listdir('/content/drive/MyDrive/Objectdetection/image_classification/data/train/tree')))"
      ],
      "metadata": {
        "colab": {
          "base_uri": "https://localhost:8080/"
        },
        "id": "eX40iYN5XNJB",
        "outputId": "94bcd60d-b65a-4bab-c788-57bac8de1cd4"
      },
      "execution_count": null,
      "outputs": [
        {
          "output_type": "stream",
          "name": "stdout",
          "text": [
            "car : 1106\n",
            "motorcyle : 261\n",
            "pedestrain : 318\n",
            "tree : 409\n"
          ]
        }
      ]
    },
    {
      "cell_type": "code",
      "source": [
        "print(\"car :\",len(os.listdir('/content/drive/MyDrive/Objectdetection/image_classification/data/val/car')))\n",
        "print(\"motorcyle :\",len(os.listdir('/content/drive/MyDrive/Objectdetection/image_classification/data/val/motorcycle')))\n",
        "print(\"pedestrain :\",len(os.listdir('/content/drive/MyDrive/Objectdetection/image_classification/data/val/pedestrain')))\n",
        "print(\"tree :\",len(os.listdir('/content/drive/MyDrive/Objectdetection/image_classification/data/val/tree')))"
      ],
      "metadata": {
        "colab": {
          "base_uri": "https://localhost:8080/"
        },
        "id": "gj5OZli-2ooR",
        "outputId": "3631e7a5-8ccc-4322-cace-c42d5c1cc950"
      },
      "execution_count": null,
      "outputs": [
        {
          "output_type": "stream",
          "name": "stdout",
          "text": [
            "car : 44\n",
            "motorcyle : 8\n",
            "pedestrain : 20\n",
            "tree : 8\n"
          ]
        }
      ]
    },
    {
      "cell_type": "code",
      "source": [
        "!rm -rf /content/data\n",
        "!cp -r /content/drive/MyDrive/Objectdetection/image_classification/data /content"
      ],
      "metadata": {
        "id": "wP02qOzzX8Lo"
      },
      "execution_count": null,
      "outputs": []
    },
    {
      "cell_type": "markdown",
      "source": [
        "#### Model Making"
      ],
      "metadata": {
        "id": "jZV8sDxyX0nI"
      }
    },
    {
      "cell_type": "code",
      "source": [
        "from __future__ import print_function, division\n",
        "\n",
        "import torch\n",
        "import torch.nn as nn\n",
        "import torch.optim as optim\n",
        "from torch.optim import lr_scheduler\n",
        "import torch.backends.cudnn as cudnn\n",
        "import numpy as np\n",
        "import torchvision\n",
        "from torchvision import datasets, models, transforms\n",
        "import matplotlib.pyplot as plt\n",
        "import time\n",
        "import os\n",
        "import copy\n",
        "\n",
        "cudnn.benchmark = True\n",
        "plt.ion()   # interactive mode"
      ],
      "metadata": {
        "id": "WGMinXF-b9bb",
        "colab": {
          "base_uri": "https://localhost:8080/"
        },
        "outputId": "b778fa5d-5878-417f-ad81-b3136faed9c2"
      },
      "execution_count": null,
      "outputs": [
        {
          "output_type": "execute_result",
          "data": {
            "text/plain": [
              "<contextlib.ExitStack at 0x7f5277320fd0>"
            ]
          },
          "metadata": {},
          "execution_count": 10
        }
      ]
    },
    {
      "cell_type": "code",
      "source": [
        "# Data augmentation and normalization for training\n",
        "# Just normalization for validation\n",
        "data_transforms = {\n",
        "    'train': transforms.Compose([\n",
        "        transforms.RandomResizedCrop(256),\n",
        "        # transforms.RandomHorizontalFlip(),\n",
        "        transforms.ToTensor(),\n",
        "        transforms.Normalize([0.485, 0.456, 0.406], [0.229, 0.224, 0.225])\n",
        "    ]),\n",
        "    'val': transforms.Compose([\n",
        "        transforms.Resize(256),\n",
        "        transforms.ToTensor(),\n",
        "        transforms.Normalize([0.485, 0.456, 0.406], [0.229, 0.224, 0.225])\n",
        "    ]),\n",
        "}\n",
        "\n",
        "data_dir = '/content/data'\n",
        "image_datasets = {x: datasets.ImageFolder(os.path.join(data_dir, x),\n",
        "                                          data_transforms[x])\n",
        "                  for x in ['train', 'val']}\n",
        "dataloaders = {x: torch.utils.data.DataLoader(image_datasets[x], batch_size=4,\n",
        "                                             shuffle=True, num_workers=4)\n",
        "              for x in ['train', 'val']}\n",
        "dataset_sizes = {x: len(image_datasets[x]) for x in ['train', 'val']}\n",
        "class_names = image_datasets['train'].classes\n",
        "\n",
        "device = torch.device(\"cuda:0\" if torch.cuda.is_available() else \"cpu\")"
      ],
      "metadata": {
        "colab": {
          "base_uri": "https://localhost:8080/"
        },
        "id": "z0Ji63iy3tt4",
        "outputId": "30d65664-37cf-4812-8289-11a36e34ad67"
      },
      "execution_count": null,
      "outputs": [
        {
          "output_type": "stream",
          "name": "stderr",
          "text": [
            "/usr/local/lib/python3.10/dist-packages/torch/utils/data/dataloader.py:560: UserWarning: This DataLoader will create 4 worker processes in total. Our suggested max number of worker in current system is 2, which is smaller than what this DataLoader is going to create. Please be aware that excessive worker creation might get DataLoader running slow or even freeze, lower the worker number to avoid potential slowness/freeze if necessary.\n",
            "  warnings.warn(_create_warning_msg(\n"
          ]
        }
      ]
    },
    {
      "cell_type": "code",
      "source": [
        "def imshow(inp, title=None):\n",
        "    \"\"\"Display image for Tensor.\"\"\"\n",
        "    inp = inp.numpy().transpose((1, 2, 0))\n",
        "    mean = np.array([0.485, 0.456, 0.406])\n",
        "    std = np.array([0.229, 0.224, 0.225])\n",
        "    inp = std * inp + mean\n",
        "    inp = np.clip(inp, 0, 1)\n",
        "    plt.imshow(inp)\n",
        "    if title is not None:\n",
        "        plt.title(title)\n",
        "    plt.pause(0.001) \n",
        "\n",
        "inputs, classes = next(iter(dataloaders['train']))\n",
        "out = torchvision.utils.make_grid(inputs)\n",
        "imshow(out, title=[class_names[x] for x in classes])"
      ],
      "metadata": {
        "colab": {
          "base_uri": "https://localhost:8080/",
          "height": 207
        },
        "id": "91nUt9I433o_",
        "outputId": "81672bbb-dc6f-4114-8c29-a26f73da1ac2"
      },
      "execution_count": null,
      "outputs": [
        {
          "output_type": "display_data",
          "data": {
            "text/plain": [
              "<Figure size 640x480 with 1 Axes>"
            ],
            "image/png": "[encoded data removed]"
          },
          "metadata": {}
        }
      ]
    },
    {
      "cell_type": "code",
      "source": [
        "def train_model(model, criterion, optimizer, scheduler, num_epochs=25):\n",
        "    since = time.time()\n",
        "\n",
        "    best_model_wts = copy.deepcopy(model.state_dict())\n",
        "    best_acc = 0.0\n",
        "\n",
        "    for epoch in range(num_epochs):\n",
        "        print(f'Epoch {epoch}/{num_epochs - 1}')\n",
        "        print('-' * 10)\n",
        "\n",
        "        # Each epoch has a training and validation phase\n",
        "        for phase in ['train', 'val']:\n",
        "            if phase == 'train':\n",
        "                model.train()  # Set model to training mode\n",
        "            else:\n",
        "                model.eval()   # Set model to evaluate mode\n",
        "\n",
        "            running_loss = 0.0\n",
        "            running_corrects = 0\n",
        "\n",
        "            # Iterate over data.\n",
        "            for inputs, labels in dataloaders[phase]:\n",
        "                inputs = inputs.to(device)\n",
        "                labels = labels.to(device)\n",
        "\n",
        "                # zero the parameter gradients\n",
        "                optimizer.zero_grad()\n",
        "\n",
        "                # forward\n",
        "                # track history if only in train\n",
        "                with torch.set_grad_enabled(phase == 'train'):\n",
        "                    outputs = model(inputs)\n",
        "                    _, preds = torch.max(outputs, 1)\n",
        "                    loss = criterion(outputs, labels)\n",
        "\n",
        "                    # backward + optimize only if in training phase\n",
        "                    if phase == 'train':\n",
        "                        loss.backward()\n",
        "                        optimizer.step()\n",
        "\n",
        "                # statistics\n",
        "                running_loss += loss.item() * inputs.size(0)\n",
        "                running_corrects += torch.sum(preds == labels.data)\n",
        "            if phase == 'train':\n",
        "                scheduler.step()\n",
        "\n",
        "            epoch_loss = running_loss / dataset_sizes[phase]\n",
        "            epoch_acc = running_corrects.double() / dataset_sizes[phase]\n",
        "\n",
        "            print(f'{phase} Loss: {epoch_loss:.4f} Acc: {epoch_acc:.4f}')\n",
        "\n",
        "            # deep copy the model\n",
        "            if phase == 'val' and epoch_acc > best_acc:\n",
        "                best_acc = epoch_acc\n",
        "                best_model_wts = copy.deepcopy(model.state_dict())\n",
        "\n",
        "        print()\n",
        "\n",
        "    time_elapsed = time.time() - since\n",
        "    print(f'Training complete in {time_elapsed // 60:.0f}m {time_elapsed % 60:.0f}s')\n",
        "    print(f'Best val Acc: {best_acc:4f}')\n",
        "\n",
        "    # load best model weights\n",
        "    model.load_state_dict(best_model_wts)\n",
        "    return model"
      ],
      "metadata": {
        "id": "UTSP2sGz3_tZ"
      },
      "execution_count": null,
      "outputs": []
    },
    {
      "cell_type": "code",
      "source": [
        "model_ft = models.mobilenet_v2(weights='DEFAULT')\n",
        "num_ftrs = model_ft.classifier[1].in_features\n",
        "model_ft.classifier[1] = nn.Linear(num_ftrs,4)\n",
        "model_ft = model_ft.to(device)\n",
        "\n",
        "criterion = nn.CrossEntropyLoss()\n",
        "\n",
        "# Observe that all parameters are being optimized\n",
        "optimizer_ft = optim.SGD(model_ft.parameters(), lr=0.001, momentum=0.9,weight_decay = 0.000001)\n",
        "\n",
        "# Decay LR by a factor of 0.1 every 7 epochs\n",
        "exp_lr_scheduler = lr_scheduler.StepLR(optimizer_ft, step_size=7, gamma=0.1)"
      ],
      "metadata": {
        "id": "FQtxwqDs4idn"
      },
      "execution_count": null,
      "outputs": []
    },
    {
      "cell_type": "code",
      "source": [
        "model_ft = train_model(model_ft, criterion, optimizer_ft, exp_lr_scheduler,\n",
        "                       num_epochs=10)"
      ],
      "metadata": {
        "colab": {
          "base_uri": "https://localhost:8080/"
        },
        "id": "J56NJWFC46Zg",
        "outputId": "bce662f8-7d18-406c-d10d-9f65ed8a9ae3"
      },
      "execution_count": null,
      "outputs": [
        {
          "output_type": "stream",
          "name": "stdout",
          "text": [
            "Epoch 0/9\n",
            "----------\n",
            "train Loss: 0.7087 Acc: 0.7440\n",
            "val Loss: 0.4345 Acc: 0.8750\n",
            "\n",
            "Epoch 1/9\n",
            "----------\n",
            "train Loss: 0.4876 Acc: 0.8376\n",
            "val Loss: 0.3760 Acc: 0.8625\n",
            "\n",
            "Epoch 2/9\n",
            "----------\n",
            "train Loss: 0.4192 Acc: 0.8625\n",
            "val Loss: 0.4694 Acc: 0.8750\n",
            "\n",
            "Epoch 3/9\n",
            "----------\n",
            "train Loss: 0.3327 Acc: 0.8859\n",
            "val Loss: 0.3158 Acc: 0.9125\n",
            "\n",
            "Epoch 4/9\n",
            "----------\n",
            "train Loss: 0.3083 Acc: 0.9045\n",
            "val Loss: 0.2281 Acc: 0.9125\n",
            "\n",
            "Epoch 5/9\n",
            "----------\n",
            "train Loss: 0.2609 Acc: 0.9117\n",
            "val Loss: 0.2849 Acc: 0.9125\n",
            "\n",
            "Epoch 6/9\n",
            "----------\n",
            "train Loss: 0.2669 Acc: 0.9074\n",
            "val Loss: 0.1194 Acc: 0.9625\n",
            "\n",
            "Epoch 7/9\n",
            "----------\n",
            "train Loss: 0.2121 Acc: 0.9312\n",
            "val Loss: 0.1954 Acc: 0.9375\n",
            "\n",
            "Epoch 8/9\n",
            "----------\n",
            "train Loss: 0.2178 Acc: 0.9312\n",
            "val Loss: 0.2034 Acc: 0.9125\n",
            "\n",
            "Epoch 9/9\n",
            "----------\n",
            "train Loss: 0.2387 Acc: 0.9226\n",
            "val Loss: 0.2554 Acc: 0.8875\n",
            "\n",
            "Training complete in 4m 3s\n",
            "Best val Acc: 0.962500\n"
          ]
        }
      ]
    },
    {
      "cell_type": "code",
      "source": [
        "torch.save(model_ft.state_dict(), '/content/model_image_classification_mobilenet_v2.pt')"
      ],
      "metadata": {
        "id": "6LLRTi9B4_BO"
      },
      "execution_count": null,
      "outputs": []
    },
    {
      "cell_type": "code",
      "source": [
        "!cp /content/model_image_classification_mobilenet_v2.pt /content/drive/MyDrive/Objectdetection/image_classification"
      ],
      "metadata": {
        "id": "oaFS9v_p7sdF"
      },
      "execution_count": null,
      "outputs": []
    },
    {
      "cell_type": "code",
      "source": [],
      "metadata": {
        "id": "_8Dae0O_7_eb"
      },
      "execution_count": null,
      "outputs": []
    }
  ]
}