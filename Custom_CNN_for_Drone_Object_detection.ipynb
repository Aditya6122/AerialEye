{
  "nbformat": 4,
  "nbformat_minor": 0,
  "metadata": {
    "colab": {
      "provenance": [],
      "gpuType": "T4",
      "include_colab_link": true
    },
    "kernelspec": {
      "name": "python3",
      "display_name": "Python 3"
    },
    "language_info": {
      "name": "python"
    },
    "accelerator": "GPU"
  },
  "cells": [
    {
      "cell_type": "markdown",
      "metadata": {
        "id": "view-in-github",
        "colab_type": "text"
      },
      "source": [
        "<a href=\"https://colab.research.google.com/github/Aditya6122/Drone-View-Object-Detection/blob/main/Custom_CNN_for_Drone_Object_detection.ipynb\" target=\"_parent\"><img src=\"https://colab.research.google.com/assets/colab-badge.svg\" alt=\"Open In Colab\"/></a>"
      ]
    },
    {
      "cell_type": "markdown",
      "source": [
        "#### Data Preparation"
      ],
      "metadata": {
        "id": "FKlq9TpFXvAv"
      }
    },
    {
      "cell_type": "code",
      "source": [
        "from google.colab import drive\n",
        "drive.mount('/content/drive')"
      ],
      "metadata": {
        "colab": {
          "base_uri": "https://localhost:8080/"
        },
        "id": "_O5KXe6rdGQC",
        "outputId": "85fdd482-c062-4797-b597-e8304b6eee72"
      },
      "execution_count": 1,
      "outputs": [
        {
          "output_type": "stream",
          "name": "stdout",
          "text": [
            "Mounted at /content/drive\n"
          ]
        }
      ]
    },
    {
      "cell_type": "code",
      "source": [
        "!pip install roboflow --quiet"
      ],
      "metadata": {
        "colab": {
          "base_uri": "https://localhost:8080/"
        },
        "id": "z2aKSZc3SJhY",
        "outputId": "a57657eb-6b18-40dd-8bae-354e29d1512f"
      },
      "execution_count": 2,
      "outputs": [
        {
          "output_type": "stream",
          "name": "stdout",
          "text": [
            "\u001b[2K     \u001b[90m━━━━━━━━━━━━━━━━━━━━━━━━━━━━━━━━━━━━━━━━\u001b[0m \u001b[32m56.3/56.3 kB\u001b[0m \u001b[31m2.5 MB/s\u001b[0m eta \u001b[36m0:00:00\u001b[0m\n",
            "\u001b[2K     \u001b[90m━━━━━━━━━━━━━━━━━━━━━━━━━━━━━━━━━━━━━━━━\u001b[0m \u001b[32m58.8/58.8 kB\u001b[0m \u001b[31m7.2 MB/s\u001b[0m eta \u001b[36m0:00:00\u001b[0m\n",
            "\u001b[2K     \u001b[90m━━━━━━━━━━━━━━━━━━━━━━━━━━━━━━━━━━━━━━━━\u001b[0m \u001b[32m67.8/67.8 kB\u001b[0m \u001b[31m8.1 MB/s\u001b[0m eta \u001b[36m0:00:00\u001b[0m\n",
            "\u001b[?25h  Preparing metadata (setup.py) ... \u001b[?25l\u001b[?25hdone\n",
            "\u001b[2K     \u001b[90m━━━━━━━━━━━━━━━━━━━━━━━━━━━━━━━━━━━━━━━━\u001b[0m \u001b[32m54.5/54.5 kB\u001b[0m \u001b[31m6.4 MB/s\u001b[0m eta \u001b[36m0:00:00\u001b[0m\n",
            "\u001b[?25h  Building wheel for wget (setup.py) ... \u001b[?25l\u001b[?25hdone\n"
          ]
        }
      ]
    },
    {
      "cell_type": "code",
      "source": [
        "from roboflow import Roboflow\n",
        "rf = Roboflow(api_key=\"tbwjbJaqSTCkdlcH4sVH\")\n",
        "project = rf.workspace(\"aditya-imsui\").project(\"object-detection-hd\")\n",
        "dataset = project.version(27).download(\"voc\")"
      ],
      "metadata": {
        "colab": {
          "base_uri": "https://localhost:8080/"
        },
        "id": "duDVd5UeSGLu",
        "outputId": "30fc3287-8474-4497-b756-ff86fb3cf693"
      },
      "execution_count": 3,
      "outputs": [
        {
          "output_type": "stream",
          "name": "stdout",
          "text": [
            "loading Roboflow workspace...\n",
            "loading Roboflow project...\n",
            "Exporting format voc in progress : 85.0%\n",
            "Version export complete for voc format\n",
            "Downloading Dataset Version Zip in object-detection---HD-27 to voc: 100% [34726325 / 34726325] bytes\n"
          ]
        },
        {
          "output_type": "stream",
          "name": "stderr",
          "text": [
            "Extracting Dataset Version Zip to object-detection---HD-27 in voc:: 100%|██████████| 6962/6962 [00:00<00:00, 10775.70it/s]\n"
          ]
        }
      ]
    },
    {
      "cell_type": "code",
      "source": [
        "import os"
      ],
      "metadata": {
        "id": "ZqL8sZUZTNbP"
      },
      "execution_count": 4,
      "outputs": []
    },
    {
      "cell_type": "code",
      "source": [
        "train_path = '/content/object-detection---HD-27/train'\n",
        "val_path = '/content/object-detection---HD-27/valid'\n",
        "train = sorted(os.listdir(train_path))\n",
        "val = sorted(os.listdir(val_path))"
      ],
      "metadata": {
        "id": "lMik3XzySmZ0"
      },
      "execution_count": 5,
      "outputs": []
    },
    {
      "cell_type": "code",
      "source": [
        "train_annotations = [i for i in train if i[-3:]=='xml']\n",
        "train_imgs = [i for i in train if i[-3:]=='jpg']\n",
        "val_annotations = [i for i in val if i[-3:]=='xml']\n",
        "val_imgs = [i for i in val if i[-3:]=='jpg']"
      ],
      "metadata": {
        "id": "T3hWOIw3Syaa"
      },
      "execution_count": 6,
      "outputs": []
    },
    {
      "cell_type": "code",
      "source": [
        "for i in range(len(train_annotations)):\n",
        "    os.rename(os.path.join(train_path,train_imgs[i]),os.path.join(train_path,'image'+str(i).zfill(5)+'.jpg'))\n",
        "    os.rename(os.path.join(train_path,train_annotations[i]),os.path.join(train_path,'annotation'+str(i).zfill(5)+'.xml'))"
      ],
      "metadata": {
        "id": "4_nVyRUXS6qx"
      },
      "execution_count": 7,
      "outputs": []
    },
    {
      "cell_type": "code",
      "source": [
        "for i in range(len(val_annotations)):\n",
        "    os.rename(os.path.join(val_path,val_imgs[i]),os.path.join(val_path,'image'+str(i).zfill(5)+'.jpg'))\n",
        "    os.rename(os.path.join(val_path,val_annotations[i]),os.path.join(val_path,'annotation'+str(i).zfill(5)+'.xml'))"
      ],
      "metadata": {
        "id": "K3wJfGl5z15z"
      },
      "execution_count": 8,
      "outputs": []
    },
    {
      "cell_type": "code",
      "source": [
        "train = sorted(os.listdir(train_path))\n",
        "train_annotations = [i for i in train if i[-3:]=='xml']\n",
        "train_imgs = [i for i in train if i[-3:]=='jpg']"
      ],
      "metadata": {
        "id": "HjWInB6JTBSp"
      },
      "execution_count": 9,
      "outputs": []
    },
    {
      "cell_type": "code",
      "source": [
        "val = sorted(os.listdir(val_path))\n",
        "val_annotations = [i for i in val if i[-3:]=='xml']\n",
        "val_imgs = [i for i in val if i[-3:]=='jpg']"
      ],
      "metadata": {
        "id": "emLvJoC50Edw"
      },
      "execution_count": 10,
      "outputs": []
    },
    {
      "cell_type": "code",
      "source": [
        "len(train_annotations),len(train_imgs)"
      ],
      "metadata": {
        "colab": {
          "base_uri": "https://localhost:8080/"
        },
        "id": "Dnpc3QsSTFuS",
        "outputId": "4962b39d-84be-44fc-e282-9093fb24368b"
      },
      "execution_count": 11,
      "outputs": [
        {
          "output_type": "execute_result",
          "data": {
            "text/plain": [
              "(3294, 3294)"
            ]
          },
          "metadata": {},
          "execution_count": 11
        }
      ]
    },
    {
      "cell_type": "code",
      "source": [
        "len(val_annotations),len(val_imgs)"
      ],
      "metadata": {
        "colab": {
          "base_uri": "https://localhost:8080/"
        },
        "id": "9KRCVHwZ0NdK",
        "outputId": "5586bb5c-13e9-43f3-b2f0-7c24d3edb290"
      },
      "execution_count": 12,
      "outputs": [
        {
          "output_type": "execute_result",
          "data": {
            "text/plain": [
              "(185, 185)"
            ]
          },
          "metadata": {},
          "execution_count": 12
        }
      ]
    },
    {
      "cell_type": "code",
      "source": [
        "!rm -rf /content/data\n",
        "!mkdir /content/data\n",
        "!mkdir /content/data/train\n",
        "!mkdir /content/data/val\n",
        "!mkdir /content/data/train/images\n",
        "!mkdir /content/data/train/annotations\n",
        "!mkdir /content/data/val/images\n",
        "!mkdir /content/data/val/annotations"
      ],
      "metadata": {
        "id": "Vpkf9wzMVb7o"
      },
      "execution_count": 13,
      "outputs": []
    },
    {
      "cell_type": "code",
      "source": [
        "new_train_annot_path = '/content/data/train/annotations'\n",
        "new_train_imgs_path = '/content/data/train/images'\n",
        "new_val_annot_path = '/content/data/val/annotations'\n",
        "new_val_imgs_path = '/content/data/val/images'"
      ],
      "metadata": {
        "id": "TMBdaI0wVITx"
      },
      "execution_count": 14,
      "outputs": []
    },
    {
      "cell_type": "code",
      "source": [
        "import shutil\n",
        "for i in range(len(train_annotations)):\n",
        "    shutil.copyfile(os.path.join(train_path,train_annotations[i]), os.path.join(new_train_annot_path,train_annotations[i]))\n",
        "    shutil.copyfile(os.path.join(train_path,train_imgs[i]), os.path.join(new_train_imgs_path,train_imgs[i]))"
      ],
      "metadata": {
        "id": "xoHSa1O3WBD6"
      },
      "execution_count": 15,
      "outputs": []
    },
    {
      "cell_type": "code",
      "source": [
        "for i in range(len(val_annotations)):\n",
        "    shutil.copyfile(os.path.join(val_path,val_annotations[i]), os.path.join(new_val_annot_path,val_annotations[i]))\n",
        "    shutil.copyfile(os.path.join(val_path,val_imgs[i]), os.path.join(new_val_imgs_path,val_imgs[i]))"
      ],
      "metadata": {
        "id": "LdwEC5Tj06pO"
      },
      "execution_count": 16,
      "outputs": []
    },
    {
      "cell_type": "code",
      "source": [
        "from PIL import Image\n",
        "import xml.etree.ElementTree as ET"
      ],
      "metadata": {
        "id": "KLK_taaNfGpE"
      },
      "execution_count": 17,
      "outputs": []
    },
    {
      "cell_type": "code",
      "source": [
        "!rm -rf /content/drive/MyDrive/Objectdetection/image_classification/data/\n",
        "!mkdir /content/drive/MyDrive/Objectdetection/image_classification/data/\n",
        "!rm -rf /content/drive/MyDrive/Objectdetection/image_classification/.ipynb_checkpoints\n",
        "!mkdir /content/drive/MyDrive/Objectdetection/image_classification/data/train\n",
        "!mkdir /content/drive/MyDrive/Objectdetection/image_classification/data/val\n",
        "\n",
        "\n",
        "!mkdir /content/drive/MyDrive/Objectdetection/image_classification/data/train/car\n",
        "!mkdir /content/drive/MyDrive/Objectdetection/image_classification/data/train/pedestrain\n",
        "!mkdir /content/drive/MyDrive/Objectdetection/image_classification/data/train/tree\n",
        "!mkdir /content/drive/MyDrive/Objectdetection/image_classification/data/train/motorcycle\n",
        "\n",
        "!mkdir /content/drive/MyDrive/Objectdetection/image_classification/data/val/car\n",
        "!mkdir /content/drive/MyDrive/Objectdetection/image_classification/data/val/pedestrain\n",
        "!mkdir /content/drive/MyDrive/Objectdetection/image_classification/data/val/tree\n",
        "!mkdir /content/drive/MyDrive/Objectdetection/image_classification/data/val/motorcycle"
      ],
      "metadata": {
        "id": "5Yq3cQfB98m5"
      },
      "execution_count": 18,
      "outputs": []
    },
    {
      "cell_type": "code",
      "source": [
        "root = '/content/data/train'\n",
        "\n",
        "imgs = os.listdir(os.path.join(root,\"images\"))\n",
        "annots = os.listdir(os.path.join(root,\"annotations\"))\n",
        "\n",
        "img_path = []\n",
        "annot_path = []\n",
        "for i in range(len(imgs)):\n",
        "    img_path.append(os.path.join(root,\"images\",imgs[i]))\n",
        "    annot_path.append(os.path.join(root,\"annotations\",annots[i]))\n",
        "\n",
        "img_path = list(sorted(img_path))\n",
        "annot_path = list(sorted(annot_path))\n",
        "\n",
        "\n",
        "saved_root = '/content/drive/MyDrive/Objectdetection/image_classification/data/train'\n",
        "\n",
        "last = {'tree':-1,'pedestrain':-1,'car':-1,'motorcycle':-1}\n",
        "\n",
        "for idx in range(len(img_path)):\n",
        "    img = Image.open(img_path[idx]).convert(\"RGB\")\n",
        "    tree = ET.parse(annot_path[idx])\n",
        "    root = tree.getroot()\n",
        "\n",
        "    for obj in root.findall('.//object'):\n",
        "        label = obj.find('name').text\n",
        "        \n",
        "    last[label]+=1\n",
        "    img.save(os.path.join(saved_root,label,str(label)+str(last[label]).zfill(5)+'.jpg'))\n",
        "    img.close()"
      ],
      "metadata": {
        "id": "h7Ff7ZUJdQCV"
      },
      "execution_count": 19,
      "outputs": []
    },
    {
      "cell_type": "code",
      "source": [
        "root = '/content/data/val'\n",
        "\n",
        "imgs = os.listdir(os.path.join(root,\"images\"))\n",
        "annots = os.listdir(os.path.join(root,\"annotations\"))\n",
        "\n",
        "img_path = []\n",
        "annot_path = []\n",
        "for i in range(len(imgs)):\n",
        "    img_path.append(os.path.join(root,\"images\",imgs[i]))\n",
        "    annot_path.append(os.path.join(root,\"annotations\",annots[i]))\n",
        "\n",
        "img_path = list(sorted(img_path))\n",
        "annot_path = list(sorted(annot_path))\n",
        "\n",
        "\n",
        "saved_root = '/content/drive/MyDrive/Objectdetection/image_classification/data/val'\n",
        "\n",
        "last = {'tree':-1,'pedestrain':-1,'car':-1,'motorcycle':-1}\n",
        "\n",
        "for idx in range(len(img_path)):\n",
        "    img = Image.open(img_path[idx]).convert(\"RGB\")\n",
        "    tree = ET.parse(annot_path[idx])\n",
        "    root = tree.getroot()\n",
        "\n",
        "    for obj in root.findall('.//object'):\n",
        "        label = obj.find('name').text\n",
        "        \n",
        "    last[label]+=1\n",
        "    img.save(os.path.join(saved_root,label,str(label)+str(last[label]).zfill(5)+'.jpg'))\n",
        "    img.close()"
      ],
      "metadata": {
        "id": "F6BriwY42W4O"
      },
      "execution_count": 20,
      "outputs": []
    },
    {
      "cell_type": "code",
      "source": [
        "print(\"car :\",len(os.listdir('/content/drive/MyDrive/Objectdetection/image_classification/data/train/car')))\n",
        "print(\"motorcyle :\",len(os.listdir('/content/drive/MyDrive/Objectdetection/image_classification/data/train/motorcycle')))\n",
        "print(\"pedestrain :\",len(os.listdir('/content/drive/MyDrive/Objectdetection/image_classification/data/train/pedestrain')))\n",
        "print(\"tree :\",len(os.listdir('/content/drive/MyDrive/Objectdetection/image_classification/data/train/tree')))"
      ],
      "metadata": {
        "colab": {
          "base_uri": "https://localhost:8080/"
        },
        "id": "eX40iYN5XNJB",
        "outputId": "f82acb50-e84e-4d23-a3c9-156edaa51913"
      },
      "execution_count": 21,
      "outputs": [
        {
          "output_type": "stream",
          "name": "stdout",
          "text": [
            "car : 1152\n",
            "motorcyle : 618\n",
            "pedestrain : 477\n",
            "tree : 1047\n"
          ]
        }
      ]
    },
    {
      "cell_type": "code",
      "source": [
        "print(\"car :\",len(os.listdir('/content/drive/MyDrive/Objectdetection/image_classification/data/val/car')))\n",
        "print(\"motorcyle :\",len(os.listdir('/content/drive/MyDrive/Objectdetection/image_classification/data/val/motorcycle')))\n",
        "print(\"pedestrain :\",len(os.listdir('/content/drive/MyDrive/Objectdetection/image_classification/data/val/pedestrain')))\n",
        "print(\"tree :\",len(os.listdir('/content/drive/MyDrive/Objectdetection/image_classification/data/val/tree')))"
      ],
      "metadata": {
        "colab": {
          "base_uri": "https://localhost:8080/"
        },
        "id": "gj5OZli-2ooR",
        "outputId": "9facafc9-95e8-4e26-9453-e256e5abef11"
      },
      "execution_count": 22,
      "outputs": [
        {
          "output_type": "stream",
          "name": "stdout",
          "text": [
            "car : 69\n",
            "motorcyle : 23\n",
            "pedestrain : 30\n",
            "tree : 63\n"
          ]
        }
      ]
    },
    {
      "cell_type": "code",
      "source": [
        "!rm -rf /content/data\n",
        "!cp -r /content/drive/MyDrive/Objectdetection/image_classification/data /content"
      ],
      "metadata": {
        "id": "wP02qOzzX8Lo"
      },
      "execution_count": 23,
      "outputs": []
    },
    {
      "cell_type": "markdown",
      "source": [
        "#### Model Making"
      ],
      "metadata": {
        "id": "jZV8sDxyX0nI"
      }
    },
    {
      "cell_type": "code",
      "source": [
        "from __future__ import print_function, division\n",
        "\n",
        "import torch\n",
        "import torch.nn as nn\n",
        "import torch.optim as optim\n",
        "from torch.optim import lr_scheduler\n",
        "import torch.backends.cudnn as cudnn\n",
        "import numpy as np\n",
        "import torchvision\n",
        "from torchvision import datasets, models, transforms\n",
        "import matplotlib.pyplot as plt\n",
        "import time\n",
        "import os\n",
        "import copy\n",
        "\n",
        "cudnn.benchmark = True\n",
        "plt.ion()   # interactive mode"
      ],
      "metadata": {
        "id": "WGMinXF-b9bb",
        "colab": {
          "base_uri": "https://localhost:8080/"
        },
        "outputId": "3b46fb67-47d8-494b-88da-534c39ea0857"
      },
      "execution_count": 24,
      "outputs": [
        {
          "output_type": "execute_result",
          "data": {
            "text/plain": [
              "<contextlib.ExitStack at 0x7ff5470aae30>"
            ]
          },
          "metadata": {},
          "execution_count": 24
        }
      ]
    },
    {
      "cell_type": "code",
      "source": [
        "# Data augmentation and normalization for training\n",
        "# Just normalization for validation\n",
        "data_transforms = {\n",
        "    'train': transforms.Compose([\n",
        "        transforms.RandomResizedCrop(256),\n",
        "        # transforms.RandomHorizontalFlip(),\n",
        "        transforms.ToTensor(),\n",
        "        transforms.Normalize([0.485, 0.456, 0.406], [0.229, 0.224, 0.225])\n",
        "    ]),\n",
        "    'val': transforms.Compose([\n",
        "        transforms.Resize(256),\n",
        "        transforms.ToTensor(),\n",
        "        transforms.Normalize([0.485, 0.456, 0.406], [0.229, 0.224, 0.225])\n",
        "    ]),\n",
        "}\n",
        "\n",
        "data_dir = '/content/data'\n",
        "image_datasets = {x: datasets.ImageFolder(os.path.join(data_dir, x),\n",
        "                                          data_transforms[x])\n",
        "                  for x in ['train', 'val']}\n",
        "dataloaders = {x: torch.utils.data.DataLoader(image_datasets[x], batch_size=4,\n",
        "                                             shuffle=True, num_workers=4)\n",
        "              for x in ['train', 'val']}\n",
        "dataset_sizes = {x: len(image_datasets[x]) for x in ['train', 'val']}\n",
        "class_names = image_datasets['train'].classes\n",
        "\n",
        "device = torch.device(\"cuda:0\" if torch.cuda.is_available() else \"cpu\")"
      ],
      "metadata": {
        "colab": {
          "base_uri": "https://localhost:8080/"
        },
        "id": "z0Ji63iy3tt4",
        "outputId": "aef11893-5f84-42c0-f7e0-6b6af189c1d4"
      },
      "execution_count": 25,
      "outputs": [
        {
          "output_type": "stream",
          "name": "stderr",
          "text": [
            "This DataLoader will create 4 worker processes in total. Our suggested max number of worker in current system is 2, which is smaller than what this DataLoader is going to create. Please be aware that excessive worker creation might get DataLoader running slow or even freeze, lower the worker number to avoid potential slowness/freeze if necessary.\n"
          ]
        }
      ]
    },
    {
      "cell_type": "code",
      "source": [
        "def imshow(inp, title=None):\n",
        "    \"\"\"Display image for Tensor.\"\"\"\n",
        "    inp = inp.numpy().transpose((1, 2, 0))\n",
        "    mean = np.array([0.485, 0.456, 0.406])\n",
        "    std = np.array([0.229, 0.224, 0.225])\n",
        "    inp = std * inp + mean\n",
        "    inp = np.clip(inp, 0, 1)\n",
        "    plt.imshow(inp)\n",
        "    if title is not None:\n",
        "        plt.title(title)\n",
        "    plt.pause(0.001) \n",
        "\n",
        "inputs, classes = next(iter(dataloaders['train']))\n",
        "out = torchvision.utils.make_grid(inputs)\n",
        "imshow(out, title=[class_names[x] for x in classes])"
      ],
      "metadata": {
        "colab": {
          "base_uri": "https://localhost:8080/",
          "height": 207
        },
        "id": "91nUt9I433o_",
        "outputId": "ceb6ba38-06af-4df7-a3f5-fe61db5c2f5b"
      },
      "execution_count": 26,
      "outputs": [
        {
          "output_type": "display_data",
          "data": {
            "text/plain": [
              "<Figure size 640x480 with 1 Axes>"
            ],
            "image/png": "[encoded data removed]"
          },
          "metadata": {}
        }
      ]
    },
    {
      "cell_type": "code",
      "source": [
        "def train_model(model, criterion, optimizer, scheduler, num_epochs=25):\n",
        "    since = time.time()\n",
        "\n",
        "    best_model_wts = copy.deepcopy(model.state_dict())\n",
        "    best_acc = 0.0\n",
        "\n",
        "    for epoch in range(num_epochs):\n",
        "        print(f'Epoch {epoch}/{num_epochs - 1}')\n",
        "        print('-' * 10)\n",
        "\n",
        "        # Each epoch has a training and validation phase\n",
        "        for phase in ['train', 'val']:\n",
        "            if phase == 'train':\n",
        "                model.train()  # Set model to training mode\n",
        "            else:\n",
        "                model.eval()   # Set model to evaluate mode\n",
        "\n",
        "            running_loss = 0.0\n",
        "            running_corrects = 0\n",
        "\n",
        "            # Iterate over data.\n",
        "            for inputs, labels in dataloaders[phase]:\n",
        "                inputs = inputs.to(device)\n",
        "                labels = labels.to(device)\n",
        "\n",
        "                # zero the parameter gradients\n",
        "                optimizer.zero_grad()\n",
        "\n",
        "                # forward\n",
        "                # track history if only in train\n",
        "                with torch.set_grad_enabled(phase == 'train'):\n",
        "                    outputs = model(inputs)\n",
        "                    _, preds = torch.max(outputs, 1)\n",
        "                    loss = criterion(outputs, labels)\n",
        "\n",
        "                    # backward + optimize only if in training phase\n",
        "                    if phase == 'train':\n",
        "                        loss.backward()\n",
        "                        optimizer.step()\n",
        "\n",
        "                # statistics\n",
        "                running_loss += loss.item() * inputs.size(0)\n",
        "                running_corrects += torch.sum(preds == labels.data)\n",
        "            if phase == 'train':\n",
        "                scheduler.step()\n",
        "\n",
        "            epoch_loss = running_loss / dataset_sizes[phase]\n",
        "            epoch_acc = running_corrects.double() / dataset_sizes[phase]\n",
        "\n",
        "            print(f'{phase} Loss: {epoch_loss:.4f} Acc: {epoch_acc:.4f}')\n",
        "\n",
        "            # deep copy the model\n",
        "            if phase == 'val' and epoch_acc > best_acc:\n",
        "                best_acc = epoch_acc\n",
        "                best_model_wts = copy.deepcopy(model.state_dict())\n",
        "\n",
        "        print()\n",
        "\n",
        "    time_elapsed = time.time() - since\n",
        "    print(f'Training complete in {time_elapsed // 60:.0f}m {time_elapsed % 60:.0f}s')\n",
        "    print(f'Best val Acc: {best_acc:4f}')\n",
        "\n",
        "    # load best model weights\n",
        "    model.load_state_dict(best_model_wts)\n",
        "    return model"
      ],
      "metadata": {
        "id": "UTSP2sGz3_tZ"
      },
      "execution_count": 27,
      "outputs": []
    },
    {
      "cell_type": "code",
      "source": [
        "model_ft = models.mobilenet_v2(weights='DEFAULT')\n",
        "num_ftrs = model_ft.classifier[1].in_features\n",
        "model_ft.classifier[1] = nn.Linear(num_ftrs,4)\n",
        "model_ft = model_ft.to(device)\n",
        "\n",
        "criterion = nn.CrossEntropyLoss()\n",
        "\n",
        "# Observe that all parameters are being optimized\n",
        "optimizer_ft = optim.SGD(model_ft.parameters(), lr=0.001, momentum=0.9,weight_decay = 0.000001)\n",
        "\n",
        "# Decay LR by a factor of 0.1 every 7 epochs\n",
        "exp_lr_scheduler = lr_scheduler.StepLR(optimizer_ft, step_size=7, gamma=0.1)"
      ],
      "metadata": {
        "id": "FQtxwqDs4idn",
        "outputId": "4b83f705-ed65-4bce-cc3e-acea79ae085f",
        "colab": {
          "base_uri": "https://localhost:8080/"
        }
      },
      "execution_count": 28,
      "outputs": [
        {
          "output_type": "stream",
          "name": "stderr",
          "text": [
            "Downloading: \"https://download.pytorch.org/models/mobilenet_v2-7ebf99e0.pth\" to /root/.cache/torch/hub/checkpoints/mobilenet_v2-7ebf99e0.pth\n",
            "100%|██████████| 13.6M/13.6M [00:00<00:00, 123MB/s]\n"
          ]
        }
      ]
    },
    {
      "cell_type": "code",
      "source": [
        "model_ft = train_model(model_ft, criterion, optimizer_ft, exp_lr_scheduler,\n",
        "                       num_epochs=10)"
      ],
      "metadata": {
        "colab": {
          "base_uri": "https://localhost:8080/"
        },
        "id": "J56NJWFC46Zg",
        "outputId": "3106247a-b066-46bb-e8b8-98eb686325f6"
      },
      "execution_count": 29,
      "outputs": [
        {
          "output_type": "stream",
          "name": "stdout",
          "text": [
            "Epoch 0/9\n",
            "----------\n",
            "train Loss: 0.7716 Acc: 0.6964\n",
            "val Loss: 0.3867 Acc: 0.8757\n",
            "\n",
            "Epoch 1/9\n",
            "----------\n",
            "train Loss: 0.5228 Acc: 0.7975\n",
            "val Loss: 0.4201 Acc: 0.8324\n",
            "\n",
            "Epoch 2/9\n",
            "----------\n",
            "train Loss: 0.4260 Acc: 0.8503\n",
            "val Loss: 0.2772 Acc: 0.9243\n",
            "\n",
            "Epoch 3/9\n",
            "----------\n",
            "train Loss: 0.3785 Acc: 0.8689\n",
            "val Loss: 0.2070 Acc: 0.9243\n",
            "\n",
            "Epoch 4/9\n",
            "----------\n",
            "train Loss: 0.3057 Acc: 0.8904\n",
            "val Loss: 0.1912 Acc: 0.9297\n",
            "\n",
            "Epoch 5/9\n",
            "----------\n",
            "train Loss: 0.2596 Acc: 0.9071\n",
            "val Loss: 0.2563 Acc: 0.8973\n",
            "\n",
            "Epoch 6/9\n",
            "----------\n",
            "train Loss: 0.2549 Acc: 0.9114\n",
            "val Loss: 0.2283 Acc: 0.9243\n",
            "\n",
            "Epoch 7/9\n",
            "----------\n",
            "train Loss: 0.2181 Acc: 0.9247\n",
            "val Loss: 0.1193 Acc: 0.9784\n",
            "\n",
            "Epoch 8/9\n",
            "----------\n",
            "train Loss: 0.1823 Acc: 0.9390\n",
            "val Loss: 0.1271 Acc: 0.9730\n",
            "\n",
            "Epoch 9/9\n",
            "----------\n",
            "train Loss: 0.1762 Acc: 0.9417\n",
            "val Loss: 0.1103 Acc: 0.9784\n",
            "\n",
            "Training complete in 5m 36s\n",
            "Best val Acc: 0.978378\n"
          ]
        }
      ]
    },
    {
      "cell_type": "code",
      "source": [
        "torch.save(model_ft.state_dict(), '/content/model_image_classification_mobilenet_v2.pt')"
      ],
      "metadata": {
        "id": "6LLRTi9B4_BO"
      },
      "execution_count": 30,
      "outputs": []
    },
    {
      "cell_type": "code",
      "source": [
        "!cp /content/model_image_classification_mobilenet_v2.pt /content/drive/MyDrive/Objectdetection/image_classification"
      ],
      "metadata": {
        "id": "oaFS9v_p7sdF"
      },
      "execution_count": 31,
      "outputs": []
    },
    {
      "cell_type": "code",
      "source": [],
      "metadata": {
        "id": "_8Dae0O_7_eb"
      },
      "execution_count": null,
      "outputs": []
    }
  ]
}